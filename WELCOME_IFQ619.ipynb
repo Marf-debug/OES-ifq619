{
 "cells": [
  {
   "cell_type": "markdown",
   "metadata": {},
   "source": [
    "### Click the link below to load the latest IFQ619 notebooks from GitHub\n",
    "\n",
    "[Load IFQ619 notebooks into this Jupyter environment](https://jupyter-online.qutanalytics.io/hub/user-redirect/git-pull?repo=https%3A%2F%2Fgithub.com%2Fqistudio%2Fifq619&urlpath=lab%3F&branch=master)\n",
    "\n",
    "If you need an original copy of any notebooks during the unit, delete (or rename) the notebook that you no longer want, and click the link above to load a fresh copy into your Jupyter environment."
   ]
  },
  {
   "cell_type": "code",
   "execution_count": null,
   "metadata": {},
   "outputs": [],
   "source": []
  }
 ],
 "metadata": {
  "kernelspec": {
   "display_name": "Python 3",
   "language": "python",
   "name": "python3"
  },
  "language_info": {
   "codemirror_mode": {
    "name": "ipython",
    "version": 3
   },
   "file_extension": ".py",
   "mimetype": "text/x-python",
   "name": "python",
   "nbconvert_exporter": "python",
   "pygments_lexer": "ipython3",
   "version": "3.7.6"
  }
 },
 "nbformat": 4,
 "nbformat_minor": 4
}
