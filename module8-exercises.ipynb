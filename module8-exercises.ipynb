{
 "cells": [
  {
   "cell_type": "markdown",
   "metadata": {
    "colab_type": "text",
    "id": "a6aI01kSh_7f"
   },
   "source": [
    "# IFQ619. Module 8 - Exercises"
   ]
  },
  {
   "cell_type": "markdown",
   "metadata": {
    "colab_type": "text",
    "id": "Hfs36QT-h94f"
   },
   "source": [
    "## Uncertainty In Flower Data\n",
    "\n",
    "You've been contracted by a floral research company in Canada to assist with a dilemma they are facing concerning some uncertainty in their data.\n",
    "\n",
    "You see, they recently held an expedition to count and characterise flowers in a nearby forest, to inform a local honey company on the yield and quality of flowers for the year. However, some of their papers were damaged during the expedition, causing the species types on certain records to be de-identified, and leaving only the measurements of the flowers behind.\n",
    "\n",
    "Their management team is upset, considering that the expedition was expensive to fund, and they still need to submit the report to the honey company.\n",
    "\n",
    "**They want to know if there is some way to confidently determine the flower species of the damaged records?**"
   ]
  },
  {
   "cell_type": "markdown",
   "metadata": {
    "colab_type": "text",
    "id": "F0Q36uaIiNOU"
   },
   "source": [
    "## Main Libraries"
   ]
  },
  {
   "cell_type": "code",
   "execution_count": null,
   "metadata": {
    "ExecuteTime": {
     "end_time": "2020-05-05T23:17:24.591219Z",
     "start_time": "2020-05-05T23:17:20.994712Z"
    },
    "colab": {},
    "colab_type": "code",
    "id": "mpoyFwFghuAL"
   },
   "outputs": [],
   "source": [
    "# You may possibly need to uncomment these lines to install the required libraries\n",
    "\n",
    "#!pip install pytest\n",
    "#!pip install pandas_profiling\n",
    "\n",
    "# For reproduciability reasons:\n",
    "\n",
    "import numpy as np\n",
    "import random as rn\n",
    "import tensorflow as tf\n",
    "import csv\n",
    "\n",
    "# Necessary for starting numpy generated random numbers in an initial state\n",
    "\n",
    "np.random.seed(515)\n",
    "\n",
    "# Necessary for starting core Python generated random numbers in a state\n",
    "\n",
    "rn.seed(515)\n",
    "\n",
    "# Force TensorFlow to single thread\n",
    "\n",
    "# Multiple threads are a potential source of non-reprocible research results\n",
    "\n",
    "session_conf = tf.compat.v1.ConfigProto( intra_op_parallelism_threads=1,\n",
    "                                          inter_op_parallelism_threads=1 )\n",
    "\n",
    "# tf.set_random_seed() will make random number generation in the TensorFlow backend\n",
    "# have a well defined initial state\n",
    "# more details: https://www.tensorflow.org/api_docs/python/tf/set_random_seed\n",
    "\n",
    "tf.compat.v1.set_random_seed(515)"
   ]
  },
  {
   "cell_type": "code",
   "execution_count": null,
   "metadata": {
    "ExecuteTime": {
     "end_time": "2020-05-05T23:18:47.238649Z",
     "start_time": "2020-05-05T23:18:46.564572Z"
    },
    "colab": {
     "base_uri": "https://localhost:8080/",
     "height": 71
    },
    "colab_type": "code",
    "executionInfo": {
     "elapsed": 1921,
     "status": "ok",
     "timestamp": 1588719546198,
     "user": {
      "displayName": "Catarina Moreira",
      "photoUrl": "https://lh3.googleusercontent.com/a-/AOh14Gid-vLpdwA-GJKlz2vCYOiRm1vjzbCkZjtsgFVV=s64",
      "userId": "07726683220655856721"
     },
     "user_tz": -600
    },
    "id": "TFTlM9i7hvxD",
    "outputId": "b862c485-2750-4b7a-98da-841092f6e3bc"
   },
   "outputs": [],
   "source": [
    "from __future__ import absolute_import, division, print_function, unicode_literals\n",
    "\n",
    "import pandas as pd\n",
    "import numpy as np\n",
    "#import pandas_profiling\n",
    "import seaborn as sns\n",
    "#sns.set_style('dark')\n",
    "import re\n",
    "#sns.set(style=\"ticks\", context=\"talk\")\n",
    "import warnings\n",
    "warnings.simplefilter(action='ignore', category=FutureWarning)\n",
    "\n",
    "# update for tensorflow\n",
    "\n",
    "# keras / deep learning libraries\n",
    "\n",
    "from tensorflow import keras\n",
    "from tensorflow.keras.models import Sequential\n",
    "from tensorflow.keras.models import model_from_json\n",
    "from tensorflow.keras.layers import Dense\n",
    "from tensorflow.keras.optimizers import Nadam\n",
    "from tensorflow.keras.callbacks import TensorBoard\n",
    "from tensorflow.keras.utils import plot_model\n",
    "\n",
    "# callbacks\n",
    "\n",
    "from tensorflow.keras import backend as K\n",
    "from tensorflow.keras.callbacks import EarlyStopping\n",
    "from tensorflow.keras.callbacks import ModelCheckpoint\n",
    "from tensorflow.keras.callbacks import ReduceLROnPlateau\n",
    "\n",
    "from matplotlib import pyplot as plt\n",
    "from matplotlib.pyplot import figure\n",
    "import matplotlib.image as mpimg\n",
    "import pylab as pl\n",
    "from pylab import savefig\n",
    "\n",
    "plt.style.use('seaborn-deep')\n",
    "%matplotlib inline\n",
    "\n",
    "from sklearn import datasets\n",
    "from sklearn.model_selection import train_test_split\n",
    "# very important for feature transformation\n",
    "from sklearn.preprocessing import OneHotEncoder, StandardScaler,MinMaxScaler\n"
   ]
  },
  {
   "cell_type": "markdown",
   "metadata": {
    "colab_type": "text",
    "id": "KjTl1KbjB1hG"
   },
   "source": [
    "### Aux Functions: Loading Trained Models"
   ]
  },
  {
   "cell_type": "code",
   "execution_count": null,
   "metadata": {
    "ExecuteTime": {
     "end_time": "2020-05-06T00:10:53.284816Z",
     "start_time": "2020-05-06T00:10:53.278987Z"
    },
    "colab": {},
    "colab_type": "code",
    "id": "9zQ8zk3kB4rq"
   },
   "outputs": [],
   "source": [
    "# LOAD_MODEL_HISTORY ------------------------------------------\n",
    "def load_model_history( model_name, path):\n",
    "\n",
    "    model_hist_loaded = {}\n",
    "    values = []\n",
    "\n",
    "    # load dictionary\n",
    "    r = open( path + model_name + \"_hist.csv\", \"r\").read()\n",
    "    for line in r.split(\"\\n\"):\n",
    "        if(len(line) == 0):\n",
    "            continue\n",
    "  \n",
    "        metric = line.split(\",\\\"[\")[0]                                    # extract metrics\n",
    "        values_str = line.split(\",\\\"[\")[1].replace(\"]\\\"\",\"\").split(\", \")  # extract validation values\n",
    "        values = [float(val_str) for val_str in values_str]\n",
    "        \n",
    "        model_hist_loaded.update( {metric : values} )\n",
    "    return model_hist_loaded\n",
    "\n",
    "# LOAD_MODEL ------------------------------------------\n",
    "def load_model( model_name, path ):\n",
    "    json_file = open( path + model_name +  \"_DUO.json\", 'r')\n",
    "    loaded_model_json = json_file.read()\n",
    "    json_file.close()\n",
    "\n",
    "    # load weights into new model\n",
    "    loaded_model = model_from_json(loaded_model_json)\n",
    "    loaded_model.load_weights(path + model_name +  \"_DUO.h5\")\n",
    "    print(\"Loaded model from disk\")\n",
    "    return loaded_model"
   ]
  },
  {
   "cell_type": "markdown",
   "metadata": {
    "colab_type": "text",
    "id": "5DWIp4b3iqBZ"
   },
   "source": [
    "### The Dataset\n",
    "\n",
    "They provide you with the dataset of the undamaged records. It appears that they were recording the measurements of the flower sizes to indicate the quality of the surveyed flowers. Perhaps we can use this data to inform an analysis that might provide some reassurance under the current uncertainty."
   ]
  },
  {
   "cell_type": "code",
   "execution_count": null,
   "metadata": {
    "ExecuteTime": {
     "end_time": "2020-05-05T23:18:49.671858Z",
     "start_time": "2020-05-05T23:18:49.654910Z"
    },
    "colab": {
     "base_uri": "https://localhost:8080/",
     "height": 419
    },
    "colab_type": "code",
    "executionInfo": {
     "elapsed": 1653,
     "status": "ok",
     "timestamp": 1588719548006,
     "user": {
      "displayName": "Catarina Moreira",
      "photoUrl": "https://lh3.googleusercontent.com/a-/AOh14Gid-vLpdwA-GJKlz2vCYOiRm1vjzbCkZjtsgFVV=s64",
      "userId": "07726683220655856721"
     },
     "user_tz": -600
    },
    "id": "FJ5mYo91iztZ",
    "outputId": "3c727463-b124-4d9c-cbaa-dd36e306e741"
   },
   "outputs": [],
   "source": [
    "\n",
    "\n",
    "dataset_path = \"iris.csv\"\n",
    "class_var = \"species\"\n",
    "dataset = pd.read_csv( dataset_path )\n",
    "dataset"
   ]
  },
  {
   "cell_type": "markdown",
   "metadata": {
    "colab_type": "text",
    "id": "YASr8bDxABkQ"
   },
   "source": [
    "Here we can see the features for which we will be stipulating the classes (however that will come later)."
   ]
  },
  {
   "cell_type": "code",
   "execution_count": null,
   "metadata": {
    "ExecuteTime": {
     "end_time": "2020-05-05T23:18:50.662504Z",
     "start_time": "2020-05-05T23:18:50.648720Z"
    },
    "colab": {
     "base_uri": "https://localhost:8080/",
     "height": 419
    },
    "colab_type": "code",
    "executionInfo": {
     "elapsed": 768,
     "status": "ok",
     "timestamp": 1588719548007,
     "user": {
      "displayName": "Catarina Moreira",
      "photoUrl": "https://lh3.googleusercontent.com/a-/AOh14Gid-vLpdwA-GJKlz2vCYOiRm1vjzbCkZjtsgFVV=s64",
      "userId": "07726683220655856721"
     },
     "user_tz": -600
    },
    "id": "bxyMNuSVjSZr",
    "outputId": "628e404a-1d36-46e9-d3b3-cf34b6362858"
   },
   "outputs": [],
   "source": [
    "dataset.drop([class_var], axis=1)"
   ]
  },
  {
   "cell_type": "markdown",
   "metadata": {
    "colab_type": "text",
    "id": "U8gxn7DDABkT"
   },
   "source": [
    "Machines cannot understand text and we need to convert these labels to numbers. It is better for the classifier to have one output neuron for each class. This means we will have to transform this data into an M x 3 matrix"
   ]
  },
  {
   "cell_type": "code",
   "execution_count": null,
   "metadata": {
    "ExecuteTime": {
     "end_time": "2020-05-05T23:18:51.656193Z",
     "start_time": "2020-05-05T23:18:51.646339Z"
    },
    "colab": {
     "base_uri": "https://localhost:8080/",
     "height": 419
    },
    "colab_type": "code",
    "executionInfo": {
     "elapsed": 1018,
     "status": "ok",
     "timestamp": 1588719549195,
     "user": {
      "displayName": "Catarina Moreira",
      "photoUrl": "https://lh3.googleusercontent.com/a-/AOh14Gid-vLpdwA-GJKlz2vCYOiRm1vjzbCkZjtsgFVV=s64",
      "userId": "07726683220655856721"
     },
     "user_tz": -600
    },
    "id": "lQu8MG1rjoWY",
    "outputId": "8db4bb4b-234e-4ed7-de88-e418127c2ba0"
   },
   "outputs": [],
   "source": [
    "pd.DataFrame(dataset[class_var])"
   ]
  },
  {
   "cell_type": "markdown",
   "metadata": {
    "colab_type": "text",
    "id": "MX8ppOBQmuN9"
   },
   "source": [
    "### Checking Class Balance\n",
    "\n"
   ]
  },
  {
   "cell_type": "markdown",
   "metadata": {
    "colab_type": "text",
    "id": "R4Io4WleABkX"
   },
   "source": [
    "Here, we're going to try to detect imbalances in the class labels. A classifier needs to have the same amount of instances for each class, otherwise it will be biased towards one of them"
   ]
  },
  {
   "cell_type": "code",
   "execution_count": null,
   "metadata": {
    "ExecuteTime": {
     "end_time": "2020-05-05T23:18:53.156334Z",
     "start_time": "2020-05-05T23:18:53.146362Z"
    },
    "colab": {
     "base_uri": "https://localhost:8080/",
     "height": 173
    },
    "colab_type": "code",
    "executionInfo": {
     "elapsed": 1010,
     "status": "ok",
     "timestamp": 1588719550577,
     "user": {
      "displayName": "Catarina Moreira",
      "photoUrl": "https://lh3.googleusercontent.com/a-/AOh14Gid-vLpdwA-GJKlz2vCYOiRm1vjzbCkZjtsgFVV=s64",
      "userId": "07726683220655856721"
     },
     "user_tz": -600
    },
    "id": "QJTkFZELmyHZ",
    "outputId": "ba6acb39-85f9-4a7f-9b30-437e16fd78b4"
   },
   "outputs": [],
   "source": [
    "dataset.groupby(class_var).count()"
   ]
  },
  {
   "cell_type": "markdown",
   "metadata": {
    "colab_type": "text",
    "id": "WWLIXhf5nO_7"
   },
   "source": [
    "### Feature Transformation"
   ]
  },
  {
   "cell_type": "code",
   "execution_count": null,
   "metadata": {
    "ExecuteTime": {
     "end_time": "2020-05-05T23:18:59.480985Z",
     "start_time": "2020-05-05T23:18:59.475546Z"
    },
    "colab": {
     "base_uri": "https://localhost:8080/",
     "height": 51
    },
    "colab_type": "code",
    "executionInfo": {
     "elapsed": 6714,
     "status": "ok",
     "timestamp": 1588719558011,
     "user": {
      "displayName": "Catarina Moreira",
      "photoUrl": "https://lh3.googleusercontent.com/a-/AOh14Gid-vLpdwA-GJKlz2vCYOiRm1vjzbCkZjtsgFVV=s64",
      "userId": "07726683220655856721"
     },
     "user_tz": -600
    },
    "id": "LqMWjAzqkq-6",
    "outputId": "d81d29bb-f518-4a6f-ddf2-ec3a0026abd4"
   },
   "outputs": [],
   "source": [
    "# separate variables into independent variables and dependent variable\n",
    "\n",
    "feature_names = dataset.columns.to_list()\n",
    "feature_names.remove(class_var)\n",
    "labels = dataset[class_var].unique()\n",
    "\n",
    "# select features from dataset\n",
    "X = \n",
    "\n",
    "# select the class values from dataset\n",
    "y = \n",
    "\n",
    "# general info about number of features, samples, and classes\n",
    "n_features =  \n",
    "n_samples = \n",
    "n_classes = \n",
    "\n",
    "print(\"There are a total of %d training instances, %d features and a total of %d classes\\n\" %(n_samples, n_features, n_classes))"
   ]
  },
  {
   "cell_type": "code",
   "execution_count": null,
   "metadata": {
    "ExecuteTime": {
     "end_time": "2020-05-05T23:19:00.391778Z",
     "start_time": "2020-05-05T23:19:00.386128Z"
    },
    "colab": {
     "base_uri": "https://localhost:8080/",
     "height": 187
    },
    "colab_type": "code",
    "executionInfo": {
     "elapsed": 2803,
     "status": "ok",
     "timestamp": 1588719558013,
     "user": {
      "displayName": "Catarina Moreira",
      "photoUrl": "https://lh3.googleusercontent.com/a-/AOh14Gid-vLpdwA-GJKlz2vCYOiRm1vjzbCkZjtsgFVV=s64",
      "userId": "07726683220655856721"
     },
     "user_tz": -600
    },
    "id": "78F-uludoig_",
    "outputId": "7920bb0d-126d-452d-8d14-372644ca04b8"
   },
   "outputs": [],
   "source": [
    "# create numerical encoding for attribute species\n",
    "# each class will be in one neuron, one column in a matrix\n",
    "# 'setosa' - index 0\n",
    "# 'versicolor' - index 1 \n",
    "# 'virginica' - index 2\n",
    "\n",
    "enc = OneHotEncoder()\n",
    "\n",
    "# transform the class variable using OneHot encoder \n",
    "Y = \n",
    "Y[0:10,:]"
   ]
  },
  {
   "cell_type": "code",
   "execution_count": null,
   "metadata": {
    "ExecuteTime": {
     "end_time": "2020-05-05T23:19:02.677200Z",
     "start_time": "2020-05-05T23:19:02.671157Z"
    },
    "colab": {
     "base_uri": "https://localhost:8080/",
     "height": 187
    },
    "colab_type": "code",
    "executionInfo": {
     "elapsed": 1875,
     "status": "ok",
     "timestamp": 1588719558013,
     "user": {
      "displayName": "Catarina Moreira",
      "photoUrl": "https://lh3.googleusercontent.com/a-/AOh14Gid-vLpdwA-GJKlz2vCYOiRm1vjzbCkZjtsgFVV=s64",
      "userId": "07726683220655856721"
     },
     "user_tz": -600
    },
    "id": "ZeGtcRmgpHyX",
    "outputId": "a9b83ec0-5985-407a-ae87-316c0003e143"
   },
   "outputs": [],
   "source": [
    "# Scale data to have mean 0 and variance 1 \n",
    "# which is importance for convergence of the neural network\n",
    "\n",
    "scaler = MinMaxScaler()\n",
    "# transform features using MinMaxScaler\n",
    "X_scaled = \n",
    "\n",
    "# taking a look\n",
    "X_scaled[0:10,:]"
   ]
  },
  {
   "cell_type": "markdown",
   "metadata": {
    "colab_type": "text",
    "id": "lOMiWm2pp9fZ"
   },
   "source": [
    "#### Get some data"
   ]
  },
  {
   "cell_type": "code",
   "execution_count": null,
   "metadata": {
    "ExecuteTime": {
     "end_time": "2020-05-05T23:19:05.094016Z",
     "start_time": "2020-05-05T23:19:05.088735Z"
    },
    "colab": {},
    "colab_type": "code",
    "id": "IZlAsbbHp2b8"
   },
   "outputs": [],
   "source": [
    "# Split the data set into training, testing and validation\n",
    "\n",
    "X_train, X_test, Y_train, Y_test = \n",
    "X_validation, X_test, Y_validation, Y_test = \n"
   ]
  },
  {
   "cell_type": "markdown",
   "metadata": {
    "colab_type": "text",
    "id": "eP1iO9SXw02a"
   },
   "source": [
    "####  Train Model"
   ]
  },
  {
   "cell_type": "code",
   "execution_count": null,
   "metadata": {
    "ExecuteTime": {
     "end_time": "2020-05-06T00:11:16.122724Z",
     "start_time": "2020-05-06T00:11:16.120233Z"
    },
    "colab": {},
    "colab_type": "code",
    "id": "L5tUVCcYyO9Z"
   },
   "outputs": [],
   "source": [
    "# create a Neural Network with\n",
    "# 3 hidden layers\n",
    "# 12 neurons in each hidden layer\n",
    "# activation function is ReLu\n",
    "# output layer uses softmax\n",
    "\n",
    "model = \n",
    "\n"
   ]
  },
  {
   "cell_type": "code",
   "execution_count": null,
   "metadata": {},
   "outputs": [],
   "source": [
    "# compile the model with \n",
    "# loss function = categorical_crossentropy\n",
    "# optimization function - nadam\n",
    "# metrics - accuracy\n",
    "\n"
   ]
  },
  {
   "cell_type": "code",
   "execution_count": null,
   "metadata": {},
   "outputs": [],
   "source": [
    "# fit model to data\n",
    "\n",
    "early_stop = EarlyStopping(monitor='val_loss', patience=patience, verbose=1, mode='min')\n",
    "callbacks_list = [early_stop]\n",
    "\n",
    "history_callback = model.fit(X_train, Y_train, batch_size = 12, epochs = 150,\n",
    "                                 verbose=0, validation_data=(X_validation, Y_validation), callbacks=callbacks_list)\n",
    "    \n",
    "\n"
   ]
  },
  {
   "cell_type": "markdown",
   "metadata": {
    "colab_type": "text",
    "id": "BapxkAcU0Tid"
   },
   "source": [
    "#### Evaluate Model"
   ]
  },
  {
   "cell_type": "code",
   "execution_count": null,
   "metadata": {
    "ExecuteTime": {
     "end_time": "2020-05-06T00:11:18.358153Z",
     "start_time": "2020-05-06T00:11:18.192042Z"
    },
    "colab": {
     "base_uri": "https://localhost:8080/",
     "height": 102
    },
    "colab_type": "code",
    "executionInfo": {
     "elapsed": 1513,
     "status": "ok",
     "timestamp": 1588719566119,
     "user": {
      "displayName": "Catarina Moreira",
      "photoUrl": "https://lh3.googleusercontent.com/a-/AOh14Gid-vLpdwA-GJKlz2vCYOiRm1vjzbCkZjtsgFVV=s64",
      "userId": "07726683220655856721"
     },
     "user_tz": -600
    },
    "id": "bWK-2zGB0P9x",
    "outputId": "96c269d4-2dfe-4353-fb8c-38ae5ae7a208"
   },
   "outputs": [],
   "source": [
    "# evaluate model performance in training data\n",
    "train_loss,train_acc= \n",
    "\n",
    "# evaluate model performance in test data\n",
    "test_loss,test_acc =\n",
    "\n",
    "print('[Accuracy] Train: %.3f, Test: %.3f' % (train_acc, test_acc))\n",
    "print('[Loss] Train: %.3f, Test: %.3f' % (train_loss, test_loss))\n"
   ]
  },
  {
   "cell_type": "code",
   "execution_count": null,
   "metadata": {
    "ExecuteTime": {
     "end_time": "2020-05-06T00:11:19.119974Z",
     "start_time": "2020-05-06T00:11:18.892084Z"
    },
    "colab": {
     "base_uri": "https://localhost:8080/",
     "height": 549
    },
    "colab_type": "code",
    "executionInfo": {
     "elapsed": 1425,
     "status": "ok",
     "timestamp": 1588719566942,
     "user": {
      "displayName": "Catarina Moreira",
      "photoUrl": "https://lh3.googleusercontent.com/a-/AOh14Gid-vLpdwA-GJKlz2vCYOiRm1vjzbCkZjtsgFVV=s64",
      "userId": "07726683220655856721"
     },
     "user_tz": -600
    },
    "id": "mQDeyr2B0kIh",
    "outputId": "cb27ce63-0cd6-48c6-8240-6d16204f9b5a"
   },
   "outputs": [],
   "source": [
    "# get model's training history\n",
    "plt.plot(best_model_hist_loaded['accuracy'], label='train')\n",
    "plt.plot(best_model_hist_loaded['val_accuracy'], label='test')\n",
    "plt.ylabel('Accuracy')\n",
    "plt.xlabel('Number of Epochs')\n",
    "plt.ylim([0, 1])\n",
    "plt.legend()\n",
    "plt.show()\n",
    "\n",
    "plt.plot(best_model_hist_loaded['loss'], label='train')\n",
    "plt.plot(best_model_hist_loaded['val_loss'], label='test')\n",
    "plt.ylabel('Loss')\n",
    "plt.xlabel('Number of Epochs')\n",
    "plt.ylim([0, 1])\n",
    "plt.legend()\n",
    "plt.show()"
   ]
  },
  {
   "cell_type": "markdown",
   "metadata": {
    "colab_type": "text",
    "id": "vE6KOQZJ1qMu"
   },
   "source": [
    "### Generating Explanations\n",
    "\n"
   ]
  },
  {
   "cell_type": "code",
   "execution_count": null,
   "metadata": {
    "ExecuteTime": {
     "end_time": "2020-05-06T00:11:22.001315Z",
     "start_time": "2020-05-06T00:11:21.930901Z"
    },
    "colab": {},
    "colab_type": "code",
    "id": "xm5Zlo8LCOYZ"
   },
   "outputs": [],
   "source": [
    "import lime\n",
    "from lime import lime_tabular"
   ]
  },
  {
   "cell_type": "code",
   "execution_count": null,
   "metadata": {
    "ExecuteTime": {
     "end_time": "2020-05-06T00:11:22.331478Z",
     "start_time": "2020-05-06T00:11:22.328939Z"
    },
    "colab": {},
    "colab_type": "code",
    "id": "DRfGXjlQEVr9"
   },
   "outputs": [],
   "source": [
    "feature_names = dataset.columns.to_list()\n",
    "feature_names.remove(class_var)\n"
   ]
  },
  {
   "cell_type": "code",
   "execution_count": null,
   "metadata": {
    "ExecuteTime": {
     "end_time": "2020-05-06T00:11:23.198649Z",
     "start_time": "2020-05-06T00:11:23.196304Z"
    },
    "colab": {},
    "colab_type": "code",
    "id": "EAyxWK08FRn9"
   },
   "outputs": [],
   "source": [
    "# the dataset does not have many features\n",
    "# let's use all of them\n",
    "MAX_FEAT = len(feature_names)"
   ]
  },
  {
   "cell_type": "code",
   "execution_count": null,
   "metadata": {
    "ExecuteTime": {
     "end_time": "2020-05-06T00:11:23.899634Z",
     "start_time": "2020-05-06T00:11:23.894182Z"
    },
    "colab": {},
    "colab_type": "code",
    "id": "rjpYy3ZoEgKX"
   },
   "outputs": [],
   "source": [
    "# Calling LIME's explainer for Tabular data\n",
    "explainer = \n"
   ]
  },
  {
   "cell_type": "code",
   "execution_count": null,
   "metadata": {
    "ExecuteTime": {
     "end_time": "2020-05-06T00:11:26.399895Z",
     "start_time": "2020-05-06T00:11:26.396173Z"
    },
    "colab": {
     "base_uri": "https://localhost:8080/",
     "height": 51
    },
    "colab_type": "code",
    "executionInfo": {
     "elapsed": 1084,
     "status": "ok",
     "timestamp": 1588720289187,
     "user": {
      "displayName": "Catarina Moreira",
      "photoUrl": "https://lh3.googleusercontent.com/a-/AOh14Gid-vLpdwA-GJKlz2vCYOiRm1vjzbCkZjtsgFVV=s64",
      "userId": "07726683220655856721"
     },
     "user_tz": -600
    },
    "id": "4V4Sl77uExJk",
    "outputId": "e9907a08-cbc9-4d93-c872-cc15d4ba0aed"
   },
   "outputs": [],
   "source": [
    "# instance to be explained\n",
    "flower_indx = 0\n",
    "\n",
    "flower_feat = X_scaled[flower_indx,:]\n",
    "flower_true_pred = enc.inverse_transform(np.expand_dims(Y[flower_indx,:], 0))[0][0]\n",
    "\n",
    "print(\"Flower id: %d \\t Groundtruth Label: %s\\n\" %(flower_indx, flower_true_pred))\n"
   ]
  },
  {
   "cell_type": "markdown",
   "metadata": {
    "colab_type": "text",
    "id": "662MOL_YHQHu"
   },
   "source": [
    "#### Generating Lime Explanations"
   ]
  },
  {
   "cell_type": "code",
   "execution_count": null,
   "metadata": {
    "ExecuteTime": {
     "end_time": "2020-05-06T00:34:33.533738Z",
     "start_time": "2020-05-06T00:34:33.313078Z"
    },
    "colab": {},
    "colab_type": "code",
    "id": "EZLtAcj-HUZy"
   },
   "outputs": [],
   "source": [
    "# explain instance using lime\n",
    "exp = \n",
    "exp.show_in_notebook(show_table=True)"
   ]
  },
  {
   "cell_type": "code",
   "execution_count": null,
   "metadata": {
    "ExecuteTime": {
     "end_time": "2020-05-06T00:34:52.428629Z",
     "start_time": "2020-05-06T00:34:52.151843Z"
    }
   },
   "outputs": [],
   "source": [
    "fig = exp_good.as_pyplot_figure(label=labels.tolist().index(pred_good))"
   ]
  },
  {
   "cell_type": "markdown",
   "metadata": {},
   "source": [
    "### Generating Many Lime Explanations\n"
   ]
  },
  {
   "cell_type": "code",
   "execution_count": null,
   "metadata": {
    "ExecuteTime": {
     "end_time": "2020-05-06T01:19:06.794097Z",
     "start_time": "2020-05-06T01:18:59.264252Z"
    },
    "scrolled": true
   },
   "outputs": [],
   "source": [
    "%matplotlib notebook\n",
    "\n",
    "for flower_indx in range(0, len(X_test)):\n",
    "    \n",
    "    flower_feat = X_test[flower_indx,:]\n",
    "    flower_true_pred = enc.inverse_transform(np.expand_dims(Y_test[flower_indx,:], 0))[0][0]\n",
    "    \n",
    "    pred_good = best_model_loaded.predict(np.expand_dims(flower_feat, 0))\n",
    "    pred_good = enc.inverse_transform( pred_good )[0][0]\n",
    "\n",
    "    # explain instance using a good model\n",
    "    exp_good = explainer.explain_instance(flower_feat, best_model_loaded.predict, num_features= MAX_FEAT, \n",
    "                                 labels=[labels.tolist().index(pred_good)])\n",
    "    \n",
    "    exp_good.show_in_notebook(show_table=True)\n",
    "    exp_good.as_pyplot_figure(label=labels.tolist().index(pred_good),)\n",
    "    print(\"---------------------------------------------------------------\")\n",
    "    \n"
   ]
  },
  {
   "cell_type": "code",
   "execution_count": null,
   "metadata": {
    "colab": {},
    "colab_type": "code",
    "id": "Kyy3N1iXHLC9"
   },
   "outputs": [],
   "source": []
  }
 ],
 "metadata": {
  "colab": {
   "collapsed_sections": [],
   "name": "UncertaintyInFlowerDataTutorial.ipynb",
   "provenance": [],
   "toc_visible": true
  },
  "kernelspec": {
   "display_name": "Python 3",
   "language": "python",
   "name": "python3"
  },
  "language_info": {
   "codemirror_mode": {
    "name": "ipython",
    "version": 3
   },
   "file_extension": ".py",
   "mimetype": "text/x-python",
   "name": "python",
   "nbconvert_exporter": "python",
   "pygments_lexer": "ipython3",
   "version": "3.7.4"
  },
  "toc": {
   "base_numbering": 1,
   "nav_menu": {},
   "number_sections": true,
   "sideBar": true,
   "skip_h1_title": false,
   "title_cell": "Table of Contents",
   "title_sidebar": "Contents",
   "toc_cell": false,
   "toc_position": {},
   "toc_section_display": true,
   "toc_window_display": false
  },
  "varInspector": {
   "cols": {
    "lenName": 16,
    "lenType": 16,
    "lenVar": 40
   },
   "kernels_config": {
    "python": {
     "delete_cmd_postfix": "",
     "delete_cmd_prefix": "del ",
     "library": "var_list.py",
     "varRefreshCmd": "print(var_dic_list())"
    },
    "r": {
     "delete_cmd_postfix": ") ",
     "delete_cmd_prefix": "rm(",
     "library": "var_list.r",
     "varRefreshCmd": "cat(var_dic_list()) "
    }
   },
   "types_to_exclude": [
    "module",
    "function",
    "builtin_function_or_method",
    "instance",
    "_Feature"
   ],
   "window_display": false
  }
 },
 "nbformat": 4,
 "nbformat_minor": 1
}
