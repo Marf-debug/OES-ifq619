{
 "cells": [
  {
   "cell_type": "markdown",
   "metadata": {},
   "source": [
    "# Module 3 - Structured data analytics - Exercise 1\n"
   ]
  },
  {
   "cell_type": "markdown",
   "metadata": {},
   "source": [
    "## Exercise: Full lockdown, late lockdown and soft lockdown - Australia vs. Spain vs. Sweden\n",
    "\n",
    "In this module we presented two datasets containing the impact in terms of confirmed covid-19 cases and deaths in different countries. We made a setailed analysis for Spain. \n",
    "\n",
    "Can you repeat the same analysis, but for Australia and Sweden? Knowing that Australia has a population of approximately 25 million people and Sweden approximately 10.2 million, can you make an analysis between countries who went on a lockdown very early (Australia), compared to countries that entered in lockdown already late (Spain), and countries that did not fully enter into a restrict lockdown (Sweden)?  "
   ]
  },
  {
   "cell_type": "code",
   "execution_count": null,
   "metadata": {
    "ExecuteTime": {
     "end_time": "2020-06-16T15:37:28.890364Z",
     "start_time": "2020-06-16T15:37:28.887698Z"
    }
   },
   "outputs": [],
   "source": [
    "# YOUR ANSWER HERE\n",
    "\n",
    "# load confirmed cases data: data/covid19_confirmed_global.csv\n",
    "data_conf = \n",
    "\n",
    "# load deaths data: data/covid19_deaths_global.csv\n",
    "data_deaths = \n",
    "\n",
    "# take a look at the data_conf dataset\n",
    "# YOUR ANSWER HERE:\n"
   ]
  },
  {
   "cell_type": "code",
   "execution_count": null,
   "metadata": {},
   "outputs": [],
   "source": [
    "# remove the columns containing geographical information and information about the Province\n",
    "# YOUR ANSWER HERE\n",
    "\n",
    "# for the confirmed cases\n",
    "confirmed_data_simplified = \n",
    "\n",
    "# for the confirmed deaths\n",
    "deaths_data_simplified = \n"
   ]
  },
  {
   "cell_type": "code",
   "execution_count": null,
   "metadata": {},
   "outputs": [],
   "source": [
    "# group data by country\n",
    "\n",
    "# YOUR ANSWER HERE\n",
    "# for the confirmed covid19 cases\n",
    "confirmed_time_series = \n",
    "\n",
    "# and for the confirmed covid19 deaths\n",
    "deaths_time_series = \n"
   ]
  },
  {
   "cell_type": "code",
   "execution_count": null,
   "metadata": {},
   "outputs": [],
   "source": [
    "# select all the confirmed cases and confirmed deaths from Australia\n",
    "# YOUR ANSWER HERE\n",
    "australia_confirmed_cases =\n",
    "australia_confirmed_deaths = \n",
    "\n",
    "# select all the confirmed cases and confirmed deaths from Sweden\n",
    "# YOUR ANSWER HERE\n",
    "sweden_confirmed_cases =\n",
    "sweden_confirmed_deaths = "
   ]
  },
  {
   "cell_type": "code",
   "execution_count": null,
   "metadata": {},
   "outputs": [],
   "source": [
    "# plot the daily number of confirmed cases and confirmed deaths from Australia per million\n",
    "\n",
    "# YOUR ANSWER HERE\n"
   ]
  },
  {
   "cell_type": "code",
   "execution_count": null,
   "metadata": {},
   "outputs": [],
   "source": [
    "# plot the daily number of confirmed cases and confirmed deaths from Sweden per million\n",
    "\n",
    "# YOUR ANSWER HERE\n"
   ]
  },
  {
   "cell_type": "markdown",
   "metadata": {},
   "source": [
    "Compare the different graphs obtained for Australia, Sweden and our previous analysis from Spain.\n",
    "\n",
    "From the graphs, m,ake a small discussion about the number of confirmed cases and deaths per million for each country and analyse it in lights of their lockdown policies: Australia - strict lockdown, Spain - late lockdown, Sweden - soft lockdown"
   ]
  },
  {
   "cell_type": "markdown",
   "metadata": {},
   "source": [
    "**YOUR ANSWER HERE**\n",
    "\n",
    "- Australia (strict lockdown): \n",
    "\n",
    "- Spain (late lockdown): \n",
    "\n",
    "- Sweden (soft lockdown):"
   ]
  }
 ],
 "metadata": {
  "kernelspec": {
   "display_name": "Python 3",
   "language": "python",
   "name": "python3"
  },
  "language_info": {
   "codemirror_mode": {
    "name": "ipython",
    "version": 3
   },
   "file_extension": ".py",
   "mimetype": "text/x-python",
   "name": "python",
   "nbconvert_exporter": "python",
   "pygments_lexer": "ipython3",
   "version": "3.7.6"
  }
 },
 "nbformat": 4,
 "nbformat_minor": 4
}
